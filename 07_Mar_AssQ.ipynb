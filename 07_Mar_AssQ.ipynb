{
 "cells": [
  {
   "attachments": {},
   "cell_type": "markdown",
   "metadata": {},
   "source": [
    "#Q1. What are the three measures of central tendency?"
   ]
  },
  {
   "attachments": {},
   "cell_type": "markdown",
   "metadata": {},
   "source": [
    "The three measures of central tendency are the mean, median, and mode. These measures are used to describe the center of a dataset or the typical or average value."
   ]
  },
  {
   "attachments": {},
   "cell_type": "markdown",
   "metadata": {},
   "source": [
    "#Q2. What is the difference between the mean, median, and mode? How are they used to measure the central tendency of a dataset?"
   ]
  },
  {
   "attachments": {},
   "cell_type": "markdown",
   "metadata": {},
   "source": [
    "The mean, median, and mode are three different measures of central tendency used in statistics to describe the typical or central value of a dataset.\n",
    "\n",
    "The mean, also known as the average, is calculated by adding up all the values in the dataset and then dividing by the total number of values. The mean is often used as a measure of central tendency when the data is normally distributed or follows a bell-shaped curve.\n",
    "\n",
    "The median is the middle value in a dataset when the values are arranged in ascending or descending order. If there is an even number of values in the dataset, then the median is the average of the two middle values. The median is often used as a measure of central tendency when the data has extreme values or outliers that can skew the mean.\n",
    "\n",
    "The mode is the value that appears most frequently in a dataset. If no value appears more than once, then the dataset has no mode. The mode is often used as a measure of central tendency when the data has distinct peaks or clusters.\n",
    "\n",
    "To choose the appropriate measure of central tendency for a given dataset, it is important to consider the distribution of the data, the presence of outliers, and the purpose of the analysis. In general, the mean is a good choice when the data is normally distributed, the median is a good choice when the data has extreme values or outliers, and the mode is a good choice when the data has distinct peaks or clusters.\n",
    "\n",
    "\n",
    "\n"
   ]
  },
  {
   "cell_type": "code",
   "execution_count": 1,
   "metadata": {},
   "outputs": [
    {
     "name": "stdout",
     "output_type": "stream",
     "text": [
      "Mean: 19.78594262295082\n",
      "Median: 17.795\n",
      "Mode: 13.42\n"
     ]
    }
   ],
   "source": [
    "import seaborn as sns\n",
    "\n",
    "# load the \"tips\" dataset\n",
    "tips = sns.load_dataset(\"tips\")\n",
    "\n",
    "# calculate the mean of the \"total_bill\" column\n",
    "mean = tips[\"total_bill\"].mean()\n",
    "print(\"Mean:\", mean)\n",
    "\n",
    "# calculate the median of the \"total_bill\" column\n",
    "median = tips[\"total_bill\"].median()\n",
    "print(\"Median:\", median)\n",
    "\n",
    "# calculate the mode of the \"total_bill\" column\n",
    "mode = tips[\"total_bill\"].mode()[0]\n",
    "print(\"Mode:\", mode)\n"
   ]
  },
  {
   "attachments": {},
   "cell_type": "markdown",
   "metadata": {},
   "source": [
    "#Q3. Measure the three measures of central tendency for the given height data:\n",
    "\n",
    "[178,177,176,177,178.2,178,175,179,180,175,178.9,176.2,177,172.5,178,176.5]"
   ]
  },
  {
   "cell_type": "code",
   "execution_count": 2,
   "metadata": {},
   "outputs": [
    {
     "name": "stdout",
     "output_type": "stream",
     "text": [
      "Mean height: 177.01875\n",
      "Median height: 177.0\n",
      "Mode height: 178\n"
     ]
    }
   ],
   "source": [
    "# define the height data\n",
    "height_data = [178, 177, 176, 177, 178.2, 178, 175, 179, 180, 175, 178.9, 176.2, 177, 172.5, 178, 176.5]\n",
    "\n",
    "# calculate the mean\n",
    "mean_height = sum(height_data) / len(height_data)\n",
    "print(\"Mean height:\", mean_height)\n",
    "\n",
    "# calculate the median\n",
    "sorted_height = sorted(height_data)\n",
    "mid = len(height_data) // 2\n",
    "if len(height_data) % 2 == 0:\n",
    "    median_height = (sorted_height[mid-1] + sorted_height[mid]) / 2\n",
    "else:\n",
    "    median_height = sorted_height[mid]\n",
    "print(\"Median height:\", median_height)\n",
    "\n",
    "# calculate the mode\n",
    "from statistics import mode\n",
    "try:\n",
    "    mode_height = mode(height_data)\n",
    "    print(\"Mode height:\", mode_height)\n",
    "except StatisticsError:\n",
    "    print(\"The given data has no mode.\")\n"
   ]
  },
  {
   "cell_type": "markdown",
   "metadata": {},
   "source": [
    "#Q4. Find the standard deviation for the given data:\n",
    "[178,177,176,177,178.2,178,175,179,180,175,178.9,176.2,177,172.5,178,176.5]"
   ]
  },
  {
   "cell_type": "code",
   "execution_count": 3,
   "metadata": {},
   "outputs": [
    {
     "name": "stdout",
     "output_type": "stream",
     "text": [
      "Standard deviation: 1.847238930584419\n"
     ]
    }
   ],
   "source": [
    "# define the data\n",
    "data = [178, 177, 176, 177, 178.2, 178, 175, 179, 180, 175, 178.9, 176.2, 177, 172.5, 178, 176.5]\n",
    "\n",
    "# calculate the mean\n",
    "mean = sum(data) / len(data)\n",
    "\n",
    "# calculate the variance\n",
    "variance = sum((x - mean) ** 2 for x in data) / (len(data) - 1)\n",
    "\n",
    "# calculate the standard deviation\n",
    "std_dev = variance ** 0.5\n",
    "\n",
    "print(\"Standard deviation:\", std_dev)\n"
   ]
  },
  {
   "attachments": {},
   "cell_type": "markdown",
   "metadata": {},
   "source": [
    "#Q5. How are measures of dispersion such as range, variance, and standard deviation used to describe\n",
    "the spread of a dataset? Provide an example."
   ]
  },
  {
   "attachments": {},
   "cell_type": "markdown",
   "metadata": {},
   "source": [
    "Measures of dispersion such as range, variance, and standard deviation are used to describe the spread or variability of a dataset. The range is the difference between the maximum and minimum values in a dataset, while variance and standard deviation measure how far the data points are from the mean.\n",
    "\n",
    "For example, if we have a dataset of exam scores for a class of students, we can use measures of dispersion to determine how much variation there is in the scores. A small range, variance, or standard deviation would indicate that the scores are relatively close to each other, while a large range, variance, or standard deviation would indicate that the scores are more spread out.\n",
    "\n",
    "Here is an example in Python using the \"tips\" dataset from Seaborn. We will calculate the range, variance, and standard deviation of the \"total_bill\" column:"
   ]
  },
  {
   "cell_type": "code",
   "execution_count": 4,
   "metadata": {},
   "outputs": [
    {
     "name": "stdout",
     "output_type": "stream",
     "text": [
      "Range of total_bill: 47.74\n",
      "Variance of total_bill: 79.25293861397827\n",
      "Standard deviation of total_bill: 8.902411954856856\n"
     ]
    }
   ],
   "source": [
    "import seaborn as sns\n",
    "\n",
    "# load the \"tips\" dataset\n",
    "tips = sns.load_dataset(\"tips\")\n",
    "\n",
    "# calculate the range of the \"total_bill\" column\n",
    "range_total_bill = tips[\"total_bill\"].max() - tips[\"total_bill\"].min()\n",
    "print(\"Range of total_bill:\", range_total_bill)\n",
    "\n",
    "# calculate the variance of the \"total_bill\" column\n",
    "var_total_bill = tips[\"total_bill\"].var()\n",
    "print(\"Variance of total_bill:\", var_total_bill)\n",
    "\n",
    "# calculate the standard deviation of the \"total_bill\" column\n",
    "std_dev_total_bill = tips[\"total_bill\"].std()\n",
    "print(\"Standard deviation of total_bill:\", std_dev_total_bill)\n"
   ]
  },
  {
   "cell_type": "markdown",
   "metadata": {},
   "source": [
    "#Q6. What is a Venn diagram?"
   ]
  },
  {
   "attachments": {},
   "cell_type": "markdown",
   "metadata": {},
   "source": [
    "A Venn diagram is a graphical representation of the relationships between sets of elements or groups. It is used to show all possible logical relationships between a finite collection of sets.\n",
    "\n",
    "Venn diagrams consist of overlapping circles or other shapes, each representing a set, and the overlap between the circles represents the intersection of the sets. The area outside of the circles represents the elements that are not part of any of the sets being compared.\n",
    "\n",
    "Venn diagrams are often used in mathematics, logic, statistics, and computer science to visualize the relationships between sets and to solve problems involving set theory. They are also commonly used in fields such as business, marketing, and social sciences to analyze data and to compare and contrast different groups or categories."
   ]
  },
  {
   "attachments": {},
   "cell_type": "markdown",
   "metadata": {},
   "source": [
    "#Q7. For the two given sets A = (2,3,4,5,6,7) & B = (0,2,6,8,10). Find:\n",
    "(i) (A ∩ B)\n",
    "(ii) (A ∪ B)"
   ]
  },
  {
   "attachments": {},
   "cell_type": "markdown",
   "metadata": {},
   "source": [
    "Given sets: A = (2,3,4,5,6,7) and B = (0,2,6,8,10)\n",
    "\n",
    "(i) A intersect B (A ∩ B) gives the common elements between A and B.\n",
    "\n",
    "A ∩ B = {2, 6}\n",
    "\n",
    "(ii) A union B (A ∪ B) gives all the elements present in A or B or both.\n",
    "\n",
    "A ∪ B = {0, 2, 3, 4, 5, 6, 7, 8, 10}\n",
    "\n",
    "Therefore,\n",
    "\n",
    "A intersect B = {2, 6}\n",
    "A union B = {0, 2, 3, 4, 5, 6, 7, 8, 10}"
   ]
  },
  {
   "attachments": {},
   "cell_type": "markdown",
   "metadata": {},
   "source": [
    "#Q8. What do you understand about skewness in data?"
   ]
  },
  {
   "attachments": {},
   "cell_type": "markdown",
   "metadata": {},
   "source": [
    "Skewness is a measure of the asymmetry of a probability distribution or a dataset. It indicates whether the data is skewed to the left, meaning the tail of the distribution is longer on the left side, or to the right, meaning the tail of the distribution is longer on the right side. In other words, it measures the degree to which a distribution is non-symmetrical.\n",
    "\n",
    "There are two types of skewness: positive skewness and negative skewness. Positive skewness occurs when the data is skewed to the right, and the tail of the distribution is longer on the right side. Negative skewness occurs when the data is skewed to the left, and the tail of the distribution is longer on the left side.\n",
    "\n",
    "Skewness is an important aspect of data analysis because it can affect the interpretation of statistical measures such as the mean and standard deviation. If the data is skewed, the mean may not accurately represent the typical value of the data, and the standard deviation may not accurately represent the spread of the data.\n",
    "\n",
    "Skewness can be measured using statistical tools such as the skewness coefficient, which is a measure of the degree of asymmetry of the data distribution. A skewness coefficient of zero indicates a perfectly symmetrical distribution, while a positive or negative value indicates a skewed distribution.\n",
    "\n",
    "\n",
    "\n"
   ]
  },
  {
   "attachments": {},
   "cell_type": "markdown",
   "metadata": {},
   "source": [
    "#Q9. If a data is right skewed then what will be the position of median with respect to mean?"
   ]
  },
  {
   "attachments": {},
   "cell_type": "markdown",
   "metadata": {},
   "source": [
    "If a data is right skewed, the median will be less than the mean. This is because the tail of the distribution is longer on the right side, which means that there are more observations on the right side that are larger than the mean. As a result, the mean is pulled towards the right, making it larger than the median, which is located at the center of the data. In such cases, the median is considered to be a better measure of central tendency than the mean."
   ]
  },
  {
   "attachments": {},
   "cell_type": "markdown",
   "metadata": {},
   "source": [
    "#Q10. Explain the difference between covariance and correlation. How are these measures used in\n",
    "statistical analysis?"
   ]
  },
  {
   "attachments": {},
   "cell_type": "markdown",
   "metadata": {},
   "source": [
    "Covariance and correlation are two statistical measures that are used to describe the relationship between two variables. While both measures are used to determine the degree to which two variables are related, there are some key differences between them.\n",
    "\n",
    "Covariance measures the direction and strength of the linear relationship between two variables. It measures how much two variables vary together. Covariance can take on any value, positive, negative or zero. A positive covariance means that the two variables tend to move in the same direction, while a negative covariance means that they tend to move in opposite directions. A covariance of zero means that there is no linear relationship between the two variables.\n",
    "\n",
    "The formula for covariance between two variables X and Y is:\n",
    "\n",
    "cov(X, Y) = E[(X - μ_X)(Y - μ_Y)]\n",
    "\n",
    "where E is the expected value operator, μ_X and μ_Y are the means of X and Y respectively.\n",
    "\n",
    "Correlation is similar to covariance in that it measures the relationship between two variables, but it standardizes the measure by dividing the covariance by the product of the standard deviations of the two variables. This normalization ensures that the correlation always takes on values between -1 and 1. A correlation coefficient of +1 indicates a perfect positive correlation, while a coefficient of -1 indicates a perfect negative correlation. A correlation coefficient of zero indicates no correlation.\n",
    "\n",
    "The formula for correlation between two variables X and Y is:\n",
    "\n",
    "corr(X, Y) = cov(X, Y) / (σ_X σ_Y)\n",
    "\n",
    "where σ_X and σ_Y are the standard deviations of X and Y, respectively.\n",
    "\n",
    "In statistical analysis, covariance and correlation are used to determine the degree to which two variables are related. They are useful in identifying patterns in the data and in making predictions about one variable based on the other. However, correlation is generally considered to be a more reliable measure of the strength of the relationship between two variables than covariance, because correlation takes into account the scales of the variables being measured, making it easier to compare the strength of the relationship across different datasets.\n"
   ]
  },
  {
   "attachments": {},
   "cell_type": "markdown",
   "metadata": {},
   "source": [
    "#Q11. What is the formula for calculating the sample mean? Provide an example calculation for a\n",
    "dataset."
   ]
  },
  {
   "attachments": {},
   "cell_type": "markdown",
   "metadata": {},
   "source": [
    "sample mean = (sum of all values in the sample) / (number of values in the sample)\n",
    "\n",
    "\n",
    "In other words, to calculate the sample mean, you add up all the values in the sample and divide by the number of values in the sample.\n",
    "\n",
    "Here's an example calculation:\n",
    "\n",
    "Suppose we have the following dataset: [10, 20, 30, 40, 50].\n",
    "\n",
    "To find the sample mean of this dataset, we first add up all the values:\n",
    "\n",
    "10 + 20 + 30 + 40 + 50 = 150\n",
    "\n",
    "sample mean = 150 / 5 = 30\n"
   ]
  },
  {
   "attachments": {},
   "cell_type": "markdown",
   "metadata": {},
   "source": [
    "#Q12. For a normal distribution data what is the relationship between its measure of central tendency?"
   ]
  },
  {
   "attachments": {},
   "cell_type": "markdown",
   "metadata": {},
   "source": [
    "For a normal distribution, the mean, median, and mode are all equal. This is because the normal distribution is symmetric, with the peak of the distribution occurring at the mean. The median also occurs at the same point, as half of the observations fall below the mean and half fall above it. The mode, which is the most common value in the distribution, also occurs at the same point as the mean and median.\n",
    "\n",
    "This relationship between the three measures of central tendency is true for any normal distribution, regardless of the mean or standard deviation. This property of the normal distribution makes it a useful tool in statistical analysis, as it allows for easy interpretation of data and calculation of probabilities."
   ]
  },
  {
   "attachments": {},
   "cell_type": "markdown",
   "metadata": {},
   "source": [
    "#Q13. How is covariance different from correlation?"
   ]
  },
  {
   "attachments": {},
   "cell_type": "markdown",
   "metadata": {},
   "source": [
    "Covariance and correlation are both measures of the relationship between two variables, but they differ in several important ways:\n",
    "\n",
    "    1.Scale: Covariance measures how two variables change together, but its magnitude is dependent on the scale of the variables. This makes it difficult to compare covariances across different datasets. Correlation, on the other hand, is a standardized measure that removes the effect of scale, allowing for easy comparison across datasets.\n",
    "\n",
    "    2.Interpretation: Covariance has no fixed range of values, so it can be difficult to interpret its magnitude. Correlation, on the other hand, always ranges between -1 and 1, where -1 indicates a perfect negative relationship, 0 indicates no relationship, and 1 indicates a perfect positive relationship.\n",
    "\n",
    "    3.Units: Covariance is measured in the units of the two variables being analyzed, while correlation is unitless.\n",
    "\n",
    "    4.Directionality: Covariance can be positive, negative, or zero, indicating the direction of the relationship between two variables. Correlation, however, always ranges between -1 and 1, indicating the strength and direction of the relationship.\n",
    "\n",
    "In summary, covariance measures the extent to which two variables change together, while correlation measures the strength and direction of the relationship between two variables, while removing the effect of scale. Correlation is a more useful measure in statistical analysis, as it provides a standardized measure of the strength of the relationship between variables.\n",
    "\n"
   ]
  },
  {
   "attachments": {},
   "cell_type": "markdown",
   "metadata": {},
   "source": [
    "#Q14. How do outliers affect measures of central tendency and dispersion? Provide an example."
   ]
  },
  {
   "attachments": {},
   "cell_type": "markdown",
   "metadata": {},
   "source": [
    "Outliers are extreme values in a dataset that can significantly affect the measures of central tendency and dispersion. They can skew the distribution and affect the mean, median, and mode, as well as measures of dispersion such as range, variance, and standard deviation.\n",
    "\n",
    "For example, consider the following dataset of 10 values: [2, 4, 5, 7, 8, 10, 12, 15, 20, 100]. The mean of this dataset is 18.3, the median is 9, and the mode is not applicable because there are no repeating values. However, the presence of the outlier value 100 significantly skews the mean, making it much larger than the other measures of central tendency. In this case, the median may be a better measure of central tendency, as it is less affected by outliers.\n",
    "\n",
    "Outliers can also affect measures of dispersion. For example, the range of the above dataset is 98, which is largely due to the outlier value 100. The variance and standard deviation of the dataset will also be affected by the presence of outliers, as these measures are based on the differences between each value and the mean.\n",
    "\n",
    "In summary, outliers can have a significant impact on measures of central tendency and dispersion, and it is important to identify and address them appropriately in statistical analysis."
   ]
  }
 ],
 "metadata": {
  "kernelspec": {
   "display_name": "Python 3",
   "language": "python",
   "name": "python3"
  },
  "language_info": {
   "codemirror_mode": {
    "name": "ipython",
    "version": 3
   },
   "file_extension": ".py",
   "mimetype": "text/x-python",
   "name": "python",
   "nbconvert_exporter": "python",
   "pygments_lexer": "ipython3",
   "version": "3.11.2"
  },
  "orig_nbformat": 4
 },
 "nbformat": 4,
 "nbformat_minor": 2
}
